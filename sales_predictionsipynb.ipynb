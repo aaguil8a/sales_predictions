{
  "nbformat": 4,
  "nbformat_minor": 0,
  "metadata": {
    "colab": {
      "name": "sales-predictionsipynb",
      "provenance": [],
      "collapsed_sections": [
        "EA14_ON6TbYk",
        "bO_itNLtTRx2",
        "fn92p6JdTHsC",
        "rWHqWEcmRmeD",
        "SF98BKdISKiz",
        "vcSCx-pSSTW9",
        "pKdAUABtSXfL"
      ],
      "authorship_tag": "ABX9TyOjNHNFasaA2Vfp7N/9Rmds",
      "include_colab_link": true
    },
    "kernelspec": {
      "name": "python3",
      "display_name": "Python 3"
    },
    "language_info": {
      "name": "python"
    }
  },
  "cells": [
    {
      "cell_type": "markdown",
      "metadata": {
        "id": "view-in-github",
        "colab_type": "text"
      },
      "source": [
        "<a href=\"https://colab.research.google.com/github/aaguil8a/sales_predictions/blob/main/sales_predictionsipynb.ipynb\" target=\"_parent\"><img src=\"https://colab.research.google.com/assets/colab-badge.svg\" alt=\"Open In Colab\"/></a>"
      ]
    },
    {
      "cell_type": "code",
      "metadata": {
        "id": "frb0XGJbkz8z"
      },
      "source": [
        "import pandas as pd \n",
        "import numpy as np\n",
        "import os\n",
        "import matplotlib.pyplot as plt\n",
        "import seaborn as sns\n",
        "import statsmodels.api as sm\n",
        "from sklearn.model_selection import train_test_split\n",
        "from sklearn.linear_model import LinearRegression\n",
        "from sklearn.metrics import mean_squared_error\n",
        "from sklearn.metrics import r2_score\n",
        "% pip install https://github.com/pandas-profiling/pandas-profiling/archive/master.zip\n",
        "import pandas_profiling as pdpf\n"
      ],
      "execution_count": null,
      "outputs": []
    },
    {
      "cell_type": "code",
      "metadata": {
        "colab": {
          "base_uri": "https://localhost:8080/",
          "height": 1000
        },
        "id": "17_mZM_ikazy",
        "outputId": "7bda8d85-5d05-4aad-a4f3-2ac04758900c"
      },
      "source": [
        "filename = 'https://raw.githubusercontent.com/aaguil8a/DS/main/sales_predictions%20(1).csv'\n",
        "\n",
        "df = pd.read_csv(filename, index_col=0, parse_dates=True)\n",
        "\n",
        "df.head(30)"
      ],
      "execution_count": 2,
      "outputs": [
        {
          "output_type": "execute_result",
          "data": {
            "text/html": [
              "<div>\n",
              "<style scoped>\n",
              "    .dataframe tbody tr th:only-of-type {\n",
              "        vertical-align: middle;\n",
              "    }\n",
              "\n",
              "    .dataframe tbody tr th {\n",
              "        vertical-align: top;\n",
              "    }\n",
              "\n",
              "    .dataframe thead th {\n",
              "        text-align: right;\n",
              "    }\n",
              "</style>\n",
              "<table border=\"1\" class=\"dataframe\">\n",
              "  <thead>\n",
              "    <tr style=\"text-align: right;\">\n",
              "      <th></th>\n",
              "      <th>Item_Weight</th>\n",
              "      <th>Item_Fat_Content</th>\n",
              "      <th>Item_Visibility</th>\n",
              "      <th>Item_Type</th>\n",
              "      <th>Item_MRP</th>\n",
              "      <th>Outlet_Identifier</th>\n",
              "      <th>Outlet_Establishment_Year</th>\n",
              "      <th>Outlet_Size</th>\n",
              "      <th>Outlet_Location_Type</th>\n",
              "      <th>Outlet_Type</th>\n",
              "      <th>Item_Outlet_Sales</th>\n",
              "    </tr>\n",
              "    <tr>\n",
              "      <th>Item_Identifier</th>\n",
              "      <th></th>\n",
              "      <th></th>\n",
              "      <th></th>\n",
              "      <th></th>\n",
              "      <th></th>\n",
              "      <th></th>\n",
              "      <th></th>\n",
              "      <th></th>\n",
              "      <th></th>\n",
              "      <th></th>\n",
              "      <th></th>\n",
              "    </tr>\n",
              "  </thead>\n",
              "  <tbody>\n",
              "    <tr>\n",
              "      <th>FDA15</th>\n",
              "      <td>9.300</td>\n",
              "      <td>Low Fat</td>\n",
              "      <td>0.016047</td>\n",
              "      <td>Dairy</td>\n",
              "      <td>249.8092</td>\n",
              "      <td>OUT049</td>\n",
              "      <td>1999</td>\n",
              "      <td>Medium</td>\n",
              "      <td>Tier 1</td>\n",
              "      <td>Supermarket Type1</td>\n",
              "      <td>3735.1380</td>\n",
              "    </tr>\n",
              "    <tr>\n",
              "      <th>DRC01</th>\n",
              "      <td>5.920</td>\n",
              "      <td>Regular</td>\n",
              "      <td>0.019278</td>\n",
              "      <td>Soft Drinks</td>\n",
              "      <td>48.2692</td>\n",
              "      <td>OUT018</td>\n",
              "      <td>2009</td>\n",
              "      <td>Medium</td>\n",
              "      <td>Tier 3</td>\n",
              "      <td>Supermarket Type2</td>\n",
              "      <td>443.4228</td>\n",
              "    </tr>\n",
              "    <tr>\n",
              "      <th>FDN15</th>\n",
              "      <td>17.500</td>\n",
              "      <td>Low Fat</td>\n",
              "      <td>0.016760</td>\n",
              "      <td>Meat</td>\n",
              "      <td>141.6180</td>\n",
              "      <td>OUT049</td>\n",
              "      <td>1999</td>\n",
              "      <td>Medium</td>\n",
              "      <td>Tier 1</td>\n",
              "      <td>Supermarket Type1</td>\n",
              "      <td>2097.2700</td>\n",
              "    </tr>\n",
              "    <tr>\n",
              "      <th>FDX07</th>\n",
              "      <td>19.200</td>\n",
              "      <td>Regular</td>\n",
              "      <td>0.000000</td>\n",
              "      <td>Fruits and Vegetables</td>\n",
              "      <td>182.0950</td>\n",
              "      <td>OUT010</td>\n",
              "      <td>1998</td>\n",
              "      <td>NaN</td>\n",
              "      <td>Tier 3</td>\n",
              "      <td>Grocery Store</td>\n",
              "      <td>732.3800</td>\n",
              "    </tr>\n",
              "    <tr>\n",
              "      <th>NCD19</th>\n",
              "      <td>8.930</td>\n",
              "      <td>Low Fat</td>\n",
              "      <td>0.000000</td>\n",
              "      <td>Household</td>\n",
              "      <td>53.8614</td>\n",
              "      <td>OUT013</td>\n",
              "      <td>1987</td>\n",
              "      <td>High</td>\n",
              "      <td>Tier 3</td>\n",
              "      <td>Supermarket Type1</td>\n",
              "      <td>994.7052</td>\n",
              "    </tr>\n",
              "    <tr>\n",
              "      <th>FDP36</th>\n",
              "      <td>10.395</td>\n",
              "      <td>Regular</td>\n",
              "      <td>0.000000</td>\n",
              "      <td>Baking Goods</td>\n",
              "      <td>51.4008</td>\n",
              "      <td>OUT018</td>\n",
              "      <td>2009</td>\n",
              "      <td>Medium</td>\n",
              "      <td>Tier 3</td>\n",
              "      <td>Supermarket Type2</td>\n",
              "      <td>556.6088</td>\n",
              "    </tr>\n",
              "    <tr>\n",
              "      <th>FDO10</th>\n",
              "      <td>13.650</td>\n",
              "      <td>Regular</td>\n",
              "      <td>0.012741</td>\n",
              "      <td>Snack Foods</td>\n",
              "      <td>57.6588</td>\n",
              "      <td>OUT013</td>\n",
              "      <td>1987</td>\n",
              "      <td>High</td>\n",
              "      <td>Tier 3</td>\n",
              "      <td>Supermarket Type1</td>\n",
              "      <td>343.5528</td>\n",
              "    </tr>\n",
              "    <tr>\n",
              "      <th>FDP10</th>\n",
              "      <td>NaN</td>\n",
              "      <td>Low Fat</td>\n",
              "      <td>0.127470</td>\n",
              "      <td>Snack Foods</td>\n",
              "      <td>107.7622</td>\n",
              "      <td>OUT027</td>\n",
              "      <td>1985</td>\n",
              "      <td>Medium</td>\n",
              "      <td>Tier 3</td>\n",
              "      <td>Supermarket Type3</td>\n",
              "      <td>4022.7636</td>\n",
              "    </tr>\n",
              "    <tr>\n",
              "      <th>FDH17</th>\n",
              "      <td>16.200</td>\n",
              "      <td>Regular</td>\n",
              "      <td>0.016687</td>\n",
              "      <td>Frozen Foods</td>\n",
              "      <td>96.9726</td>\n",
              "      <td>OUT045</td>\n",
              "      <td>2002</td>\n",
              "      <td>NaN</td>\n",
              "      <td>Tier 2</td>\n",
              "      <td>Supermarket Type1</td>\n",
              "      <td>1076.5986</td>\n",
              "    </tr>\n",
              "    <tr>\n",
              "      <th>FDU28</th>\n",
              "      <td>19.200</td>\n",
              "      <td>Regular</td>\n",
              "      <td>0.094450</td>\n",
              "      <td>Frozen Foods</td>\n",
              "      <td>187.8214</td>\n",
              "      <td>OUT017</td>\n",
              "      <td>2007</td>\n",
              "      <td>NaN</td>\n",
              "      <td>Tier 2</td>\n",
              "      <td>Supermarket Type1</td>\n",
              "      <td>4710.5350</td>\n",
              "    </tr>\n",
              "    <tr>\n",
              "      <th>FDY07</th>\n",
              "      <td>11.800</td>\n",
              "      <td>Low Fat</td>\n",
              "      <td>0.000000</td>\n",
              "      <td>Fruits and Vegetables</td>\n",
              "      <td>45.5402</td>\n",
              "      <td>OUT049</td>\n",
              "      <td>1999</td>\n",
              "      <td>Medium</td>\n",
              "      <td>Tier 1</td>\n",
              "      <td>Supermarket Type1</td>\n",
              "      <td>1516.0266</td>\n",
              "    </tr>\n",
              "    <tr>\n",
              "      <th>FDA03</th>\n",
              "      <td>18.500</td>\n",
              "      <td>Regular</td>\n",
              "      <td>0.045464</td>\n",
              "      <td>Dairy</td>\n",
              "      <td>144.1102</td>\n",
              "      <td>OUT046</td>\n",
              "      <td>1997</td>\n",
              "      <td>Small</td>\n",
              "      <td>Tier 1</td>\n",
              "      <td>Supermarket Type1</td>\n",
              "      <td>2187.1530</td>\n",
              "    </tr>\n",
              "    <tr>\n",
              "      <th>FDX32</th>\n",
              "      <td>15.100</td>\n",
              "      <td>Regular</td>\n",
              "      <td>0.100014</td>\n",
              "      <td>Fruits and Vegetables</td>\n",
              "      <td>145.4786</td>\n",
              "      <td>OUT049</td>\n",
              "      <td>1999</td>\n",
              "      <td>Medium</td>\n",
              "      <td>Tier 1</td>\n",
              "      <td>Supermarket Type1</td>\n",
              "      <td>1589.2646</td>\n",
              "    </tr>\n",
              "    <tr>\n",
              "      <th>FDS46</th>\n",
              "      <td>17.600</td>\n",
              "      <td>Regular</td>\n",
              "      <td>0.047257</td>\n",
              "      <td>Snack Foods</td>\n",
              "      <td>119.6782</td>\n",
              "      <td>OUT046</td>\n",
              "      <td>1997</td>\n",
              "      <td>Small</td>\n",
              "      <td>Tier 1</td>\n",
              "      <td>Supermarket Type1</td>\n",
              "      <td>2145.2076</td>\n",
              "    </tr>\n",
              "    <tr>\n",
              "      <th>FDF32</th>\n",
              "      <td>16.350</td>\n",
              "      <td>Low Fat</td>\n",
              "      <td>0.068024</td>\n",
              "      <td>Fruits and Vegetables</td>\n",
              "      <td>196.4426</td>\n",
              "      <td>OUT013</td>\n",
              "      <td>1987</td>\n",
              "      <td>High</td>\n",
              "      <td>Tier 3</td>\n",
              "      <td>Supermarket Type1</td>\n",
              "      <td>1977.4260</td>\n",
              "    </tr>\n",
              "    <tr>\n",
              "      <th>FDP49</th>\n",
              "      <td>9.000</td>\n",
              "      <td>Regular</td>\n",
              "      <td>0.069089</td>\n",
              "      <td>Breakfast</td>\n",
              "      <td>56.3614</td>\n",
              "      <td>OUT046</td>\n",
              "      <td>1997</td>\n",
              "      <td>Small</td>\n",
              "      <td>Tier 1</td>\n",
              "      <td>Supermarket Type1</td>\n",
              "      <td>1547.3192</td>\n",
              "    </tr>\n",
              "    <tr>\n",
              "      <th>NCB42</th>\n",
              "      <td>11.800</td>\n",
              "      <td>Low Fat</td>\n",
              "      <td>0.008596</td>\n",
              "      <td>Health and Hygiene</td>\n",
              "      <td>115.3492</td>\n",
              "      <td>OUT018</td>\n",
              "      <td>2009</td>\n",
              "      <td>Medium</td>\n",
              "      <td>Tier 3</td>\n",
              "      <td>Supermarket Type2</td>\n",
              "      <td>1621.8888</td>\n",
              "    </tr>\n",
              "    <tr>\n",
              "      <th>FDP49</th>\n",
              "      <td>9.000</td>\n",
              "      <td>Regular</td>\n",
              "      <td>0.069196</td>\n",
              "      <td>Breakfast</td>\n",
              "      <td>54.3614</td>\n",
              "      <td>OUT049</td>\n",
              "      <td>1999</td>\n",
              "      <td>Medium</td>\n",
              "      <td>Tier 1</td>\n",
              "      <td>Supermarket Type1</td>\n",
              "      <td>718.3982</td>\n",
              "    </tr>\n",
              "    <tr>\n",
              "      <th>DRI11</th>\n",
              "      <td>NaN</td>\n",
              "      <td>Low Fat</td>\n",
              "      <td>0.034238</td>\n",
              "      <td>Hard Drinks</td>\n",
              "      <td>113.2834</td>\n",
              "      <td>OUT027</td>\n",
              "      <td>1985</td>\n",
              "      <td>Medium</td>\n",
              "      <td>Tier 3</td>\n",
              "      <td>Supermarket Type3</td>\n",
              "      <td>2303.6680</td>\n",
              "    </tr>\n",
              "    <tr>\n",
              "      <th>FDU02</th>\n",
              "      <td>13.350</td>\n",
              "      <td>Low Fat</td>\n",
              "      <td>0.102492</td>\n",
              "      <td>Dairy</td>\n",
              "      <td>230.5352</td>\n",
              "      <td>OUT035</td>\n",
              "      <td>2004</td>\n",
              "      <td>Small</td>\n",
              "      <td>Tier 2</td>\n",
              "      <td>Supermarket Type1</td>\n",
              "      <td>2748.4224</td>\n",
              "    </tr>\n",
              "    <tr>\n",
              "      <th>FDN22</th>\n",
              "      <td>18.850</td>\n",
              "      <td>Regular</td>\n",
              "      <td>0.138190</td>\n",
              "      <td>Snack Foods</td>\n",
              "      <td>250.8724</td>\n",
              "      <td>OUT013</td>\n",
              "      <td>1987</td>\n",
              "      <td>High</td>\n",
              "      <td>Tier 3</td>\n",
              "      <td>Supermarket Type1</td>\n",
              "      <td>3775.0860</td>\n",
              "    </tr>\n",
              "    <tr>\n",
              "      <th>FDW12</th>\n",
              "      <td>NaN</td>\n",
              "      <td>Regular</td>\n",
              "      <td>0.035400</td>\n",
              "      <td>Baking Goods</td>\n",
              "      <td>144.5444</td>\n",
              "      <td>OUT027</td>\n",
              "      <td>1985</td>\n",
              "      <td>Medium</td>\n",
              "      <td>Tier 3</td>\n",
              "      <td>Supermarket Type3</td>\n",
              "      <td>4064.0432</td>\n",
              "    </tr>\n",
              "    <tr>\n",
              "      <th>NCB30</th>\n",
              "      <td>14.600</td>\n",
              "      <td>Low Fat</td>\n",
              "      <td>0.025698</td>\n",
              "      <td>Household</td>\n",
              "      <td>196.5084</td>\n",
              "      <td>OUT035</td>\n",
              "      <td>2004</td>\n",
              "      <td>Small</td>\n",
              "      <td>Tier 2</td>\n",
              "      <td>Supermarket Type1</td>\n",
              "      <td>1587.2672</td>\n",
              "    </tr>\n",
              "    <tr>\n",
              "      <th>FDC37</th>\n",
              "      <td>NaN</td>\n",
              "      <td>Low Fat</td>\n",
              "      <td>0.057557</td>\n",
              "      <td>Baking Goods</td>\n",
              "      <td>107.6938</td>\n",
              "      <td>OUT019</td>\n",
              "      <td>1985</td>\n",
              "      <td>Small</td>\n",
              "      <td>Tier 1</td>\n",
              "      <td>Grocery Store</td>\n",
              "      <td>214.3876</td>\n",
              "    </tr>\n",
              "    <tr>\n",
              "      <th>FDR28</th>\n",
              "      <td>13.850</td>\n",
              "      <td>Regular</td>\n",
              "      <td>0.025896</td>\n",
              "      <td>Frozen Foods</td>\n",
              "      <td>165.0210</td>\n",
              "      <td>OUT046</td>\n",
              "      <td>1997</td>\n",
              "      <td>Small</td>\n",
              "      <td>Tier 1</td>\n",
              "      <td>Supermarket Type1</td>\n",
              "      <td>4078.0250</td>\n",
              "    </tr>\n",
              "    <tr>\n",
              "      <th>NCD06</th>\n",
              "      <td>13.000</td>\n",
              "      <td>Low Fat</td>\n",
              "      <td>0.099887</td>\n",
              "      <td>Household</td>\n",
              "      <td>45.9060</td>\n",
              "      <td>OUT017</td>\n",
              "      <td>2007</td>\n",
              "      <td>NaN</td>\n",
              "      <td>Tier 2</td>\n",
              "      <td>Supermarket Type1</td>\n",
              "      <td>838.9080</td>\n",
              "    </tr>\n",
              "    <tr>\n",
              "      <th>FDV10</th>\n",
              "      <td>7.645</td>\n",
              "      <td>Regular</td>\n",
              "      <td>0.066693</td>\n",
              "      <td>Snack Foods</td>\n",
              "      <td>42.3112</td>\n",
              "      <td>OUT035</td>\n",
              "      <td>2004</td>\n",
              "      <td>Small</td>\n",
              "      <td>Tier 2</td>\n",
              "      <td>Supermarket Type1</td>\n",
              "      <td>1065.2800</td>\n",
              "    </tr>\n",
              "    <tr>\n",
              "      <th>DRJ59</th>\n",
              "      <td>11.650</td>\n",
              "      <td>low fat</td>\n",
              "      <td>0.019356</td>\n",
              "      <td>Hard Drinks</td>\n",
              "      <td>39.1164</td>\n",
              "      <td>OUT013</td>\n",
              "      <td>1987</td>\n",
              "      <td>High</td>\n",
              "      <td>Tier 3</td>\n",
              "      <td>Supermarket Type1</td>\n",
              "      <td>308.9312</td>\n",
              "    </tr>\n",
              "    <tr>\n",
              "      <th>FDE51</th>\n",
              "      <td>5.925</td>\n",
              "      <td>Regular</td>\n",
              "      <td>0.161467</td>\n",
              "      <td>Dairy</td>\n",
              "      <td>45.5086</td>\n",
              "      <td>OUT010</td>\n",
              "      <td>1998</td>\n",
              "      <td>NaN</td>\n",
              "      <td>Tier 3</td>\n",
              "      <td>Grocery Store</td>\n",
              "      <td>178.4344</td>\n",
              "    </tr>\n",
              "    <tr>\n",
              "      <th>FDC14</th>\n",
              "      <td>NaN</td>\n",
              "      <td>Regular</td>\n",
              "      <td>0.072222</td>\n",
              "      <td>Canned</td>\n",
              "      <td>43.6454</td>\n",
              "      <td>OUT019</td>\n",
              "      <td>1985</td>\n",
              "      <td>Small</td>\n",
              "      <td>Tier 1</td>\n",
              "      <td>Grocery Store</td>\n",
              "      <td>125.8362</td>\n",
              "    </tr>\n",
              "  </tbody>\n",
              "</table>\n",
              "</div>"
            ],
            "text/plain": [
              "                 Item_Weight  ... Item_Outlet_Sales\n",
              "Item_Identifier               ...                  \n",
              "FDA15                  9.300  ...         3735.1380\n",
              "DRC01                  5.920  ...          443.4228\n",
              "FDN15                 17.500  ...         2097.2700\n",
              "FDX07                 19.200  ...          732.3800\n",
              "NCD19                  8.930  ...          994.7052\n",
              "FDP36                 10.395  ...          556.6088\n",
              "FDO10                 13.650  ...          343.5528\n",
              "FDP10                    NaN  ...         4022.7636\n",
              "FDH17                 16.200  ...         1076.5986\n",
              "FDU28                 19.200  ...         4710.5350\n",
              "FDY07                 11.800  ...         1516.0266\n",
              "FDA03                 18.500  ...         2187.1530\n",
              "FDX32                 15.100  ...         1589.2646\n",
              "FDS46                 17.600  ...         2145.2076\n",
              "FDF32                 16.350  ...         1977.4260\n",
              "FDP49                  9.000  ...         1547.3192\n",
              "NCB42                 11.800  ...         1621.8888\n",
              "FDP49                  9.000  ...          718.3982\n",
              "DRI11                    NaN  ...         2303.6680\n",
              "FDU02                 13.350  ...         2748.4224\n",
              "FDN22                 18.850  ...         3775.0860\n",
              "FDW12                    NaN  ...         4064.0432\n",
              "NCB30                 14.600  ...         1587.2672\n",
              "FDC37                    NaN  ...          214.3876\n",
              "FDR28                 13.850  ...         4078.0250\n",
              "NCD06                 13.000  ...          838.9080\n",
              "FDV10                  7.645  ...         1065.2800\n",
              "DRJ59                 11.650  ...          308.9312\n",
              "FDE51                  5.925  ...          178.4344\n",
              "FDC14                    NaN  ...          125.8362\n",
              "\n",
              "[30 rows x 11 columns]"
            ]
          },
          "metadata": {},
          "execution_count": 2
        }
      ]
    },
    {
      "cell_type": "code",
      "metadata": {
        "id": "DMHrkmBvWGg3"
      },
      "source": [
        "# Removes white spaces from dataframe\n",
        "\n",
        "def remove_whitespace(x):\n",
        "    try:\n",
        "        # remove spaces inside and outside of string\n",
        "        x = \"_\".join(x.split())\n",
        "\n",
        "    except:\n",
        "        pass\n",
        "    return x\n",
        "\n",
        "\n",
        "df = df.applymap(remove_whitespace)\n"
      ],
      "execution_count": 3,
      "outputs": []
    },
    {
      "cell_type": "markdown",
      "metadata": {
        "id": "EA14_ON6TbYk"
      },
      "source": [
        "# Data Cleaning \n"
      ]
    },
    {
      "cell_type": "code",
      "metadata": {
        "colab": {
          "base_uri": "https://localhost:8080/"
        },
        "id": "ldvbmkK9cvNZ",
        "outputId": "8668203d-2698-404c-f23d-e82982d8fc9c"
      },
      "source": [
        "df.info()"
      ],
      "execution_count": 4,
      "outputs": [
        {
          "output_type": "stream",
          "name": "stdout",
          "text": [
            "<class 'pandas.core.frame.DataFrame'>\n",
            "Index: 8523 entries, FDA15 to DRG01\n",
            "Data columns (total 11 columns):\n",
            " #   Column                     Non-Null Count  Dtype  \n",
            "---  ------                     --------------  -----  \n",
            " 0   Item_Weight                7060 non-null   float64\n",
            " 1   Item_Fat_Content           8523 non-null   object \n",
            " 2   Item_Visibility            8523 non-null   float64\n",
            " 3   Item_Type                  8523 non-null   object \n",
            " 4   Item_MRP                   8523 non-null   float64\n",
            " 5   Outlet_Identifier          8523 non-null   object \n",
            " 6   Outlet_Establishment_Year  8523 non-null   int64  \n",
            " 7   Outlet_Size                6113 non-null   object \n",
            " 8   Outlet_Location_Type       8523 non-null   object \n",
            " 9   Outlet_Type                8523 non-null   object \n",
            " 10  Item_Outlet_Sales          8523 non-null   float64\n",
            "dtypes: float64(4), int64(1), object(6)\n",
            "memory usage: 799.0+ KB\n"
          ]
        }
      ]
    },
    {
      "cell_type": "code",
      "metadata": {
        "colab": {
          "base_uri": "https://localhost:8080/"
        },
        "id": "SnDCzQNKcqWA",
        "outputId": "bb65a87d-a68b-41f0-f812-10cd3666db18"
      },
      "source": [
        "df.shape # 8524 rows and 12 columns"
      ],
      "execution_count": 5,
      "outputs": [
        {
          "output_type": "execute_result",
          "data": {
            "text/plain": [
              "(8523, 11)"
            ]
          },
          "metadata": {},
          "execution_count": 5
        }
      ]
    },
    {
      "cell_type": "code",
      "metadata": {
        "id": "CG-csJZpc_ZF",
        "colab": {
          "base_uri": "https://localhost:8080/"
        },
        "outputId": "c10c3549-3731-4f18-b3a5-92a69b132052"
      },
      "source": [
        "# Count duplicate on a column \n",
        "print(df.duplicated().sum())\n",
        "\n",
        "# # non-duplicates\n",
        "print((~df.duplicated()).sum())\n",
        "\n",
        "\n"
      ],
      "execution_count": 6,
      "outputs": [
        {
          "output_type": "stream",
          "name": "stdout",
          "text": [
            "0\n",
            "8523\n"
          ]
        }
      ]
    },
    {
      "cell_type": "code",
      "metadata": {
        "colab": {
          "base_uri": "https://localhost:8080/"
        },
        "id": "-4sFj8Jnc4SB",
        "outputId": "408b8b49-edc3-44ff-b07e-6e478a7d9dd4"
      },
      "source": [
        "# missing data\n",
        "# Gives you missing percent of data\n",
        "((df\n",
        "  .isna()\n",
        "  .mean()\n",
        "  * 100)\n",
        "  .pipe(lambda ser : ser[ser > 0])\n",
        ")\n",
        "\n"
      ],
      "execution_count": 7,
      "outputs": [
        {
          "output_type": "execute_result",
          "data": {
            "text/plain": [
              "Item_Weight    17.165317\n",
              "Outlet_Size    28.276428\n",
              "dtype: float64"
            ]
          },
          "metadata": {},
          "execution_count": 7
        }
      ]
    },
    {
      "cell_type": "code",
      "metadata": {
        "id": "yGcjiqc7f791"
      },
      "source": [
        "# Checks for more missing values that may not have been picked up\n",
        "\n",
        "missing_values = ['NaN','na','--','n/a']\n",
        "\n",
        "df = pd.read_csv(filename,na_values=missing_values)\n"
      ],
      "execution_count": 8,
      "outputs": []
    },
    {
      "cell_type": "code",
      "metadata": {
        "id": "OasGMGypc_ba",
        "colab": {
          "base_uri": "https://localhost:8080/"
        },
        "outputId": "57e48e2e-62cc-4fd9-f35a-ef3a9fb943f3"
      },
      "source": [
        "# sum of missing values\n",
        "\n",
        "df.isnull().sum()\n",
        "\n",
        "\n"
      ],
      "execution_count": 9,
      "outputs": [
        {
          "output_type": "execute_result",
          "data": {
            "text/plain": [
              "Item_Identifier                 0\n",
              "Item_Weight                  1463\n",
              "Item_Fat_Content                0\n",
              "Item_Visibility                 0\n",
              "Item_Type                       0\n",
              "Item_MRP                        0\n",
              "Outlet_Identifier               0\n",
              "Outlet_Establishment_Year       0\n",
              "Outlet_Size                  2410\n",
              "Outlet_Location_Type            0\n",
              "Outlet_Type                     0\n",
              "Item_Outlet_Sales               0\n",
              "dtype: int64"
            ]
          },
          "metadata": {},
          "execution_count": 9
        }
      ]
    },
    {
      "cell_type": "code",
      "metadata": {
        "id": "blEpCL3Xc_dx",
        "colab": {
          "base_uri": "https://localhost:8080/"
        },
        "outputId": "f4b77d62-842b-4dd6-9ab5-c84d768d5ee0"
      },
      "source": [
        "# total number of missing values\n",
        "\n",
        "df.isnull().sum().sum()"
      ],
      "execution_count": 10,
      "outputs": [
        {
          "output_type": "execute_result",
          "data": {
            "text/plain": [
              "3873"
            ]
          },
          "metadata": {},
          "execution_count": 10
        }
      ]
    },
    {
      "cell_type": "code",
      "metadata": {
        "id": "vHpmB3_gc_f-"
      },
      "source": [
        "# I use median given that some rows skew to high or low extremes\n",
        "\n",
        "# Replace using median \n",
        "df['Outlet_Size'].fillna('Medium', inplace=True)\n",
        "median = df.fillna(df.median(), inplace=True)\n",
        "\n",
        "\n"
      ],
      "execution_count": 11,
      "outputs": []
    },
    {
      "cell_type": "code",
      "metadata": {
        "colab": {
          "base_uri": "https://localhost:8080/"
        },
        "id": "glPRR5mDsCM0",
        "outputId": "cf19bbc7-a1e3-4553-9c54-643c159db222"
      },
      "source": [
        "df.isnull().sum() # No missing values\n",
        "\n"
      ],
      "execution_count": 12,
      "outputs": [
        {
          "output_type": "execute_result",
          "data": {
            "text/plain": [
              "Item_Identifier              0\n",
              "Item_Weight                  0\n",
              "Item_Fat_Content             0\n",
              "Item_Visibility              0\n",
              "Item_Type                    0\n",
              "Item_MRP                     0\n",
              "Outlet_Identifier            0\n",
              "Outlet_Establishment_Year    0\n",
              "Outlet_Size                  0\n",
              "Outlet_Location_Type         0\n",
              "Outlet_Type                  0\n",
              "Item_Outlet_Sales            0\n",
              "dtype: int64"
            ]
          },
          "metadata": {},
          "execution_count": 12
        }
      ]
    },
    {
      "cell_type": "code",
      "metadata": {
        "colab": {
          "base_uri": "https://localhost:8080/"
        },
        "id": "5zgY_AoqvR-0",
        "outputId": "a8548751-7349-4b9b-f6f4-9e9982259b4e"
      },
      "source": [
        "# Looking for inconsistent categories of data\n",
        "df.value_counts()"
      ],
      "execution_count": 13,
      "outputs": [
        {
          "output_type": "execute_result",
          "data": {
            "text/plain": [
              "Item_Identifier  Item_Weight  Item_Fat_Content  Item_Visibility  Item_Type              Item_MRP  Outlet_Identifier  Outlet_Establishment_Year  Outlet_Size  Outlet_Location_Type  Outlet_Type        Item_Outlet_Sales\n",
              "NCZ54            14.650       Low Fat           0.083699         Household              163.4552  OUT018             2009                       Medium       Tier 3                Supermarket Type2  2599.2832            1\n",
              "FDJ27            17.700       Regular           0.122565         Meat                   103.8674  OUT017             2007                       Medium       Tier 2                Supermarket Type1  1528.0110            1\n",
              "FDJ22            12.600       Low Fat           0.092464         Snack Foods            190.9504  OUT019             1985                       Small        Tier 1                Grocery Store      383.5008             1\n",
              "                 18.750       Low Fat           0.052800         Snack Foods            193.2504  OUT035             2004                       Small        Tier 2                Supermarket Type1  2684.5056            1\n",
              "                                                0.052917         Snack Foods            190.6504  OUT045             2002                       Medium       Tier 2                Supermarket Type1  1342.2528            1\n",
              "                                                                                                                                                                                                                          ..\n",
              "FDV32            7.785        LF                0.088888         Fruits and Vegetables  64.7510   OUT045             2002                       Medium       Tier 2                Supermarket Type1  1201.7690            1\n",
              "                              Low Fat           0.088692         Fruits and Vegetables  61.8510   OUT035             2004                       Small        Tier 2                Supermarket Type1  1454.7730            1\n",
              "                                                0.088846         Fruits and Vegetables  61.4510   OUT049             1999                       Medium       Tier 1                Supermarket Type1  759.0120             1\n",
              "                                                0.089070         Fruits and Vegetables  62.7510   OUT018             2009                       Medium       Tier 3                Supermarket Type2  1707.7770            1\n",
              "DRA12            11.600       LF                0.000000         Soft Drinks            141.9154  OUT035             2004                       Small        Tier 2                Supermarket Type1  992.7078             1\n",
              "Length: 8523, dtype: int64"
            ]
          },
          "metadata": {},
          "execution_count": 13
        }
      ]
    },
    {
      "cell_type": "code",
      "metadata": {
        "id": "RfT2F3bAtWwN"
      },
      "source": [
        "# replace the inconsistent categories\n",
        "# Assumed that LS means low fat\n",
        "replacement = {'Low Fat': 'Low_Fat',\n",
        "                'LF': 'Low_Fat',\n",
        "               'reg': 'Regular',\n",
        "               'Low_Fat': 'Low_Fat',\n",
        "               'low fat': 'Low_Fat'\n",
        "    \n",
        "\n",
        "}\n",
        "\n",
        "df['Item_Fat_Content'].replace(replacement,inplace=True)\n",
        "\n",
        "\n"
      ],
      "execution_count": 14,
      "outputs": []
    },
    {
      "cell_type": "code",
      "metadata": {
        "colab": {
          "base_uri": "https://localhost:8080/"
        },
        "id": "1NRIcMqOd7ry",
        "outputId": "028171e6-09b3-4a68-cda5-2989c8222395"
      },
      "source": [
        "# Checked if it worked\n",
        "df.Item_Fat_Content.value_counts()"
      ],
      "execution_count": 15,
      "outputs": [
        {
          "output_type": "execute_result",
          "data": {
            "text/plain": [
              "Low_Fat    5517\n",
              "Regular    3006\n",
              "Name: Item_Fat_Content, dtype: int64"
            ]
          },
          "metadata": {},
          "execution_count": 15
        }
      ]
    },
    {
      "cell_type": "markdown",
      "metadata": {
        "id": "bO_itNLtTRx2"
      },
      "source": [
        "# Data Visualization"
      ]
    },
    {
      "cell_type": "code",
      "metadata": {
        "colab": {
          "base_uri": "https://localhost:8080/",
          "height": 144
        },
        "id": "ZObynvaJe1b-",
        "outputId": "91f3a93b-e389-49c7-c22d-d702484c6e69"
      },
      "source": [
        "# Statistics for numerical columns\n",
        "\n",
        "x = df[['Item_Weight','Item_Visibility','Item_MRP','Outlet_Establishment_Year','Item_Outlet_Sales']]\n",
        "\n",
        "x.describe().loc[['min','max','mean']]"
      ],
      "execution_count": 18,
      "outputs": [
        {
          "output_type": "execute_result",
          "data": {
            "text/html": [
              "<div>\n",
              "<style scoped>\n",
              "    .dataframe tbody tr th:only-of-type {\n",
              "        vertical-align: middle;\n",
              "    }\n",
              "\n",
              "    .dataframe tbody tr th {\n",
              "        vertical-align: top;\n",
              "    }\n",
              "\n",
              "    .dataframe thead th {\n",
              "        text-align: right;\n",
              "    }\n",
              "</style>\n",
              "<table border=\"1\" class=\"dataframe\">\n",
              "  <thead>\n",
              "    <tr style=\"text-align: right;\">\n",
              "      <th></th>\n",
              "      <th>Item_Weight</th>\n",
              "      <th>Item_Visibility</th>\n",
              "      <th>Item_MRP</th>\n",
              "      <th>Outlet_Establishment_Year</th>\n",
              "      <th>Item_Outlet_Sales</th>\n",
              "    </tr>\n",
              "  </thead>\n",
              "  <tbody>\n",
              "    <tr>\n",
              "      <th>min</th>\n",
              "      <td>4.55500</td>\n",
              "      <td>0.000000</td>\n",
              "      <td>31.290000</td>\n",
              "      <td>1985.000000</td>\n",
              "      <td>33.290000</td>\n",
              "    </tr>\n",
              "    <tr>\n",
              "      <th>max</th>\n",
              "      <td>21.35000</td>\n",
              "      <td>0.328391</td>\n",
              "      <td>266.888400</td>\n",
              "      <td>2009.000000</td>\n",
              "      <td>13086.964800</td>\n",
              "    </tr>\n",
              "    <tr>\n",
              "      <th>mean</th>\n",
              "      <td>12.81342</td>\n",
              "      <td>0.066132</td>\n",
              "      <td>140.992782</td>\n",
              "      <td>1997.831867</td>\n",
              "      <td>2181.288914</td>\n",
              "    </tr>\n",
              "  </tbody>\n",
              "</table>\n",
              "</div>"
            ],
            "text/plain": [
              "      Item_Weight  ...  Item_Outlet_Sales\n",
              "min       4.55500  ...          33.290000\n",
              "max      21.35000  ...       13086.964800\n",
              "mean     12.81342  ...        2181.288914\n",
              "\n",
              "[3 rows x 5 columns]"
            ]
          },
          "metadata": {},
          "execution_count": 18
        }
      ]
    },
    {
      "cell_type": "code",
      "metadata": {
        "colab": {
          "base_uri": "https://localhost:8080/",
          "height": 392
        },
        "id": "3t7NOIs83nWl",
        "outputId": "95c57406-c060-4d14-d1d0-cb498efa289f"
      },
      "source": [
        "# We see that there correlation between: Item_MRP & Item_Outlet_Sales\n",
        "corr = df.corr();\n",
        "sns.heatmap(corr,cmap='Blues', annot=True);"
      ],
      "execution_count": 19,
      "outputs": [
        {
          "output_type": "display_data",
          "data": {
            "image/png": "[encoded data removed]",
            "text/plain": [
              "<Figure size 432x288 with 2 Axes>"
            ]
          },
          "metadata": {
            "needs_background": "light"
          }
        }
      ]
    },
    {
      "cell_type": "code",
      "metadata": {
        "colab": {
          "base_uri": "https://localhost:8080/",
          "height": 296
        },
        "id": "kSTua15f3nZJ",
        "outputId": "7f8bddfb-2e21-444e-df0f-0d7115c1a15b"
      },
      "source": [
        "# lets explore \n",
        "sns.histplot(df['Item_Outlet_Sales'], label = 'Outlet_sales')\n",
        "plt.title('Number of Item Outlet Sales')\n",
        "plt.legend();\n",
        "\n",
        "# we see a tail distribution"
      ],
      "execution_count": 20,
      "outputs": [
        {
          "output_type": "display_data",
          "data": {
            "image/png": "[encoded data removed]",
            "text/plain": [
              "<Figure size 432x288 with 1 Axes>"
            ]
          },
          "metadata": {
            "needs_background": "light"
          }
        }
      ]
    },
    {
      "cell_type": "code",
      "metadata": {
        "colab": {
          "base_uri": "https://localhost:8080/",
          "height": 365
        },
        "id": "tTRB_STkgEye",
        "outputId": "748c30db-3707-4396-93d9-91345b1ef4ce"
      },
      "source": [
        "# There are several peaks with our Item_MRP\n",
        "plt.title('Number of Item MRP');\n",
        "sns.distplot(df.Item_MRP, rug=True, rug_kws={'alpha':.2});"
      ],
      "execution_count": 21,
      "outputs": [
        {
          "output_type": "stream",
          "name": "stderr",
          "text": [
            "/usr/local/lib/python3.7/dist-packages/seaborn/distributions.py:2619: FutureWarning: `distplot` is a deprecated function and will be removed in a future version. Please adapt your code to use either `displot` (a figure-level function with similar flexibility) or `histplot` (an axes-level function for histograms).\n",
            "  warnings.warn(msg, FutureWarning)\n",
            "/usr/local/lib/python3.7/dist-packages/seaborn/distributions.py:2103: FutureWarning: The `axis` variable is no longer used and will be removed. Instead, assign variables directly to `x` or `y`.\n",
            "  warnings.warn(msg, FutureWarning)\n"
          ]
        },
        {
          "output_type": "display_data",
          "data": {
            "image/png": "[encoded data removed]",
            "text/plain": [
              "<Figure size 432x288 with 1 Axes>"
            ]
          },
          "metadata": {
            "needs_background": "light"
          }
        }
      ]
    },
    {
      "cell_type": "code",
      "metadata": {
        "id": "XEitLZ_2xdsv",
        "colab": {
          "base_uri": "https://localhost:8080/",
          "height": 296
        },
        "outputId": "8d36685e-5dce-44fb-c156-aba406966650"
      },
      "source": [
        "# looking at relationship: left skew\n",
        "sns.scatterplot(y='Item_Outlet_Sales', x='Item_MRP', data=df);\n",
        "plt.title('Relationship between Item_MRP & Item Outlet Sales');"
      ],
      "execution_count": 22,
      "outputs": [
        {
          "output_type": "display_data",
          "data": {
            "image/png": "[encoded data removed]",
            "text/plain": [
              "<Figure size 432x288 with 1 Axes>"
            ]
          },
          "metadata": {
            "needs_background": "light"
          }
        }
      ]
    },
    {
      "cell_type": "code",
      "metadata": {
        "colab": {
          "base_uri": "https://localhost:8080/",
          "height": 404
        },
        "id": "rPOKofp9i5cv",
        "outputId": "db9cdd97-d403-4838-92d2-47d2b090b30b"
      },
      "source": [
        "# If we change item_mpr count we not total a non-linear relationship\n",
        "sns.lmplot('Item_Outlet_Sales', 'Item_MRP', data=df, lowess=True, line_kws={'color':'red'});"
      ],
      "execution_count": 23,
      "outputs": [
        {
          "output_type": "stream",
          "name": "stderr",
          "text": [
            "/usr/local/lib/python3.7/dist-packages/seaborn/_decorators.py:43: FutureWarning: Pass the following variables as keyword args: x, y. From version 0.12, the only valid positional argument will be `data`, and passing other arguments without an explicit keyword will result in an error or misinterpretation.\n",
            "  FutureWarning\n"
          ]
        },
        {
          "output_type": "display_data",
          "data": {
            "image/png": "[encoded data removed]",
            "text/plain": [
              "<Figure size 360x360 with 1 Axes>"
            ]
          },
          "metadata": {
            "needs_background": "light"
          }
        }
      ]
    },
    {
      "cell_type": "code",
      "metadata": {
        "id": "zhR0ljDfyvMm",
        "colab": {
          "base_uri": "https://localhost:8080/",
          "height": 913
        },
        "outputId": "6c4ec08b-6fe3-45f4-faee-ddd74e96c05f"
      },
      "source": [
        "# looking at other numeric figs\n",
        "df.hist(bins=50,figsize=(20,15))\n",
        "plt.legend()"
      ],
      "execution_count": 24,
      "outputs": [
        {
          "output_type": "stream",
          "name": "stderr",
          "text": [
            "No handles with labels found to put in legend.\n"
          ]
        },
        {
          "output_type": "execute_result",
          "data": {
            "text/plain": [
              "<matplotlib.legend.Legend at 0x7f2d02234490>"
            ]
          },
          "metadata": {},
          "execution_count": 24
        },
        {
          "output_type": "display_data",
          "data": {
            "image/png": "[encoded data removed]",
            "text/plain": [
              "<Figure size 1440x1080 with 6 Axes>"
            ]
          },
          "metadata": {
            "needs_background": "light"
          }
        }
      ]
    },
    {
      "cell_type": "code",
      "metadata": {
        "id": "18HVoMc4xdxt",
        "colab": {
          "base_uri": "https://localhost:8080/",
          "height": 296
        },
        "outputId": "cb1efaca-f751-4d4a-a283-5c04105dcd4b"
      },
      "source": [
        "# looking at year and item_sales\n",
        "sns.histplot(y='Item_Outlet_Sales', x='Outlet_Establishment_Year', data=df);\n",
        "plt.title('Number of item sales based on years');\n"
      ],
      "execution_count": 25,
      "outputs": [
        {
          "output_type": "display_data",
          "data": {
            "image/png": "[encoded data removed]",
            "text/plain": [
              "<Figure size 432x288 with 1 Axes>"
            ]
          },
          "metadata": {
            "needs_background": "light"
          }
        }
      ]
    },
    {
      "cell_type": "code",
      "metadata": {
        "id": "UrDwOphKxd2z"
      },
      "source": [
        "# changing year into datetime \n",
        "df['Outlet_Establishment_Year'] = pd.to_datetime(df['Outlet_Establishment_Year'], format='%Y')"
      ],
      "execution_count": 26,
      "outputs": []
    },
    {
      "cell_type": "code",
      "metadata": {
        "id": "GLnP6Lxt0qMj",
        "colab": {
          "base_uri": "https://localhost:8080/",
          "height": 280
        },
        "outputId": "401c49fa-ad38-47c5-9585-bf29817e743f"
      },
      "source": [
        "# see that most sales happend before internet; but we see in 2008 there is same peak as 1996.\n",
        "sns.histplot(df, x ='Outlet_Establishment_Year', y='Item_Outlet_Sales',\n",
        "              bins=7,\n",
        "    cbar=True, cbar_kws=dict(shrink=.5),\n",
        ");"
      ],
      "execution_count": 27,
      "outputs": [
        {
          "output_type": "display_data",
          "data": {
            "image/png": "[encoded data removed]",
            "text/plain": [
              "<Figure size 432x288 with 2 Axes>"
            ]
          },
          "metadata": {
            "needs_background": "light"
          }
        }
      ]
    },
    {
      "cell_type": "markdown",
      "metadata": {
        "id": "fn92p6JdTHsC"
      },
      "source": [
        "# Feature Engineering"
      ]
    },
    {
      "cell_type": "code",
      "metadata": {
        "id": "LGtevzB1lxsF"
      },
      "source": [
        "# # summary of variables\n",
        "# pdpf.ProfileReport(df)"
      ],
      "execution_count": 28,
      "outputs": []
    },
    {
      "cell_type": "code",
      "metadata": {
        "colab": {
          "base_uri": "https://localhost:8080/"
        },
        "id": "xPiA4emMmFR2",
        "outputId": "a1db7ecd-a743-44f7-b5da-751c70ac49fd"
      },
      "source": [
        "# let's inspect the cardinality, this is the number\n",
        "# of different labels, for the different categorical variables\n",
        "\n",
        "print('Number of categories in the variable Item Identifier: {}'.format(\n",
        "    len(df.Item_Identifier.unique())))\n",
        "\n",
        "print('Number of categories in the variable Item Fat Content: {}'.format(\n",
        "    len(df.Item_Fat_Content.unique())))\n",
        "\n",
        "print('Number of categories in the variable Item Type: {}'.format(\n",
        "    len(df.Item_Type.unique())))\n",
        "\n",
        "print('Number of categories in the variable Outlet Identifier: {}'.format(\n",
        "    len(df.Outlet_Identifier.unique())))\n",
        "\n",
        "print('Number of categories in the variable Outlet Size: {}'.format(\n",
        "    len(df.Outlet_Size.unique())))\n",
        "\n",
        "\n",
        "print('Number of categories in the variable Outlet Location Type: {}'.format(\n",
        "    len(df.Outlet_Location_Type.unique())))\n",
        "\n",
        "print('Number of categories in the variable Outlet Type: {}'.format(\n",
        "    len(df.Outlet_Type.unique())))\n",
        "\n",
        "print('Total number of item outlet sales: {}'.format(len(df)))"
      ],
      "execution_count": 29,
      "outputs": [
        {
          "output_type": "stream",
          "name": "stdout",
          "text": [
            "Number of categories in the variable Item Identifier: 1559\n",
            "Number of categories in the variable Item Fat Content: 2\n",
            "Number of categories in the variable Item Type: 16\n",
            "Number of categories in the variable Outlet Identifier: 10\n",
            "Number of categories in the variable Outlet Size: 3\n",
            "Number of categories in the variable Outlet Location Type: 3\n",
            "Number of categories in the variable Outlet Type: 4\n",
            "Total number of item outlet sales: 8523\n"
          ]
        }
      ]
    },
    {
      "cell_type": "code",
      "metadata": {
        "id": "-h_yJ4_K0l-m"
      },
      "source": [
        "# remove item identifier no info\n",
        "del df['Item_Identifier']"
      ],
      "execution_count": 30,
      "outputs": []
    },
    {
      "cell_type": "code",
      "metadata": {
        "id": "JzWs9rTe10wO"
      },
      "source": [
        "# making item fat content into numeric\n",
        "df['Item_Fat_Content'] = df.Item_Fat_Content.replace({'Low_Fat':1, 'Regular':0})"
      ],
      "execution_count": 31,
      "outputs": []
    },
    {
      "cell_type": "code",
      "metadata": {
        "colab": {
          "base_uri": "https://localhost:8080/"
        },
        "id": "anxlynkQyIgG",
        "outputId": "f3aec8c2-5f32-4e6d-ed01-c37a64664554"
      },
      "source": [
        "# checking\n",
        "df.Item_Fat_Content.value_counts()\n"
      ],
      "execution_count": 32,
      "outputs": [
        {
          "output_type": "execute_result",
          "data": {
            "text/plain": [
              "1    5517\n",
              "0    3006\n",
              "Name: Item_Fat_Content, dtype: int64"
            ]
          },
          "metadata": {},
          "execution_count": 32
        }
      ]
    },
    {
      "cell_type": "code",
      "metadata": {
        "id": "nbcjBauCQp_B"
      },
      "source": [
        "cat = ['Item_Type','Outlet_Identifier','Outlet_Size','Outlet_Location_Type','Outlet_Type']"
      ],
      "execution_count": 45,
      "outputs": []
    },
    {
      "cell_type": "code",
      "metadata": {
        "id": "RzqgGJyBRZe5"
      },
      "source": [
        "df = pd.get_dummies(df, columns = cat, drop_first = True)"
      ],
      "execution_count": 46,
      "outputs": []
    },
    {
      "cell_type": "code",
      "metadata": {
        "id": "puoDQSCdzta4"
      },
      "source": [
        "# Removing Item_Outlet Sales and storing it in variable y\n",
        "y = df.Item_Outlet_Sales\n",
        "X = df.drop(columns=['Item_Outlet_Sales','Outlet_Establishment_Year'])"
      ],
      "execution_count": 53,
      "outputs": []
    },
    {
      "cell_type": "code",
      "metadata": {
        "colab": {
          "base_uri": "https://localhost:8080/",
          "height": 244
        },
        "id": "vcxFvS8my-2P",
        "outputId": "c99507e6-0f84-4565-9a73-81bd5932d394"
      },
      "source": [
        "X = sm.add_constant(X)\n",
        "X.head()"
      ],
      "execution_count": 54,
      "outputs": [
        {
          "output_type": "execute_result",
          "data": {
            "text/html": [
              "<div>\n",
              "<style scoped>\n",
              "    .dataframe tbody tr th:only-of-type {\n",
              "        vertical-align: middle;\n",
              "    }\n",
              "\n",
              "    .dataframe tbody tr th {\n",
              "        vertical-align: top;\n",
              "    }\n",
              "\n",
              "    .dataframe thead th {\n",
              "        text-align: right;\n",
              "    }\n",
              "</style>\n",
              "<table border=\"1\" class=\"dataframe\">\n",
              "  <thead>\n",
              "    <tr style=\"text-align: right;\">\n",
              "      <th></th>\n",
              "      <th>const</th>\n",
              "      <th>Item_Weight</th>\n",
              "      <th>Item_Fat_Content</th>\n",
              "      <th>Item_Visibility</th>\n",
              "      <th>Item_MRP</th>\n",
              "      <th>Item_Type_Breads</th>\n",
              "      <th>Item_Type_Breakfast</th>\n",
              "      <th>Item_Type_Canned</th>\n",
              "      <th>Item_Type_Dairy</th>\n",
              "      <th>Item_Type_Frozen Foods</th>\n",
              "      <th>Item_Type_Fruits and Vegetables</th>\n",
              "      <th>Item_Type_Hard Drinks</th>\n",
              "      <th>Item_Type_Health and Hygiene</th>\n",
              "      <th>Item_Type_Household</th>\n",
              "      <th>Item_Type_Meat</th>\n",
              "      <th>Item_Type_Others</th>\n",
              "      <th>Item_Type_Seafood</th>\n",
              "      <th>Item_Type_Snack Foods</th>\n",
              "      <th>Item_Type_Soft Drinks</th>\n",
              "      <th>Item_Type_Starchy Foods</th>\n",
              "      <th>Outlet_Identifier_OUT013</th>\n",
              "      <th>Outlet_Identifier_OUT017</th>\n",
              "      <th>Outlet_Identifier_OUT018</th>\n",
              "      <th>Outlet_Identifier_OUT019</th>\n",
              "      <th>Outlet_Identifier_OUT027</th>\n",
              "      <th>Outlet_Identifier_OUT035</th>\n",
              "      <th>Outlet_Identifier_OUT045</th>\n",
              "      <th>Outlet_Identifier_OUT046</th>\n",
              "      <th>Outlet_Identifier_OUT049</th>\n",
              "      <th>Outlet_Size_Medium</th>\n",
              "      <th>Outlet_Size_Small</th>\n",
              "      <th>Outlet_Location_Type_Tier 2</th>\n",
              "      <th>Outlet_Location_Type_Tier 3</th>\n",
              "      <th>Outlet_Type_Supermarket Type1</th>\n",
              "      <th>Outlet_Type_Supermarket Type2</th>\n",
              "      <th>Outlet_Type_Supermarket Type3</th>\n",
              "    </tr>\n",
              "  </thead>\n",
              "  <tbody>\n",
              "    <tr>\n",
              "      <th>0</th>\n",
              "      <td>1.0</td>\n",
              "      <td>9.30</td>\n",
              "      <td>1</td>\n",
              "      <td>0.016047</td>\n",
              "      <td>249.8092</td>\n",
              "      <td>0</td>\n",
              "      <td>0</td>\n",
              "      <td>0</td>\n",
              "      <td>1</td>\n",
              "      <td>0</td>\n",
              "      <td>0</td>\n",
              "      <td>0</td>\n",
              "      <td>0</td>\n",
              "      <td>0</td>\n",
              "      <td>0</td>\n",
              "      <td>0</td>\n",
              "      <td>0</td>\n",
              "      <td>0</td>\n",
              "      <td>0</td>\n",
              "      <td>0</td>\n",
              "      <td>0</td>\n",
              "      <td>0</td>\n",
              "      <td>0</td>\n",
              "      <td>0</td>\n",
              "      <td>0</td>\n",
              "      <td>0</td>\n",
              "      <td>0</td>\n",
              "      <td>0</td>\n",
              "      <td>1</td>\n",
              "      <td>1</td>\n",
              "      <td>0</td>\n",
              "      <td>0</td>\n",
              "      <td>0</td>\n",
              "      <td>1</td>\n",
              "      <td>0</td>\n",
              "      <td>0</td>\n",
              "    </tr>\n",
              "    <tr>\n",
              "      <th>1</th>\n",
              "      <td>1.0</td>\n",
              "      <td>5.92</td>\n",
              "      <td>0</td>\n",
              "      <td>0.019278</td>\n",
              "      <td>48.2692</td>\n",
              "      <td>0</td>\n",
              "      <td>0</td>\n",
              "      <td>0</td>\n",
              "      <td>0</td>\n",
              "      <td>0</td>\n",
              "      <td>0</td>\n",
              "      <td>0</td>\n",
              "      <td>0</td>\n",
              "      <td>0</td>\n",
              "      <td>0</td>\n",
              "      <td>0</td>\n",
              "      <td>0</td>\n",
              "      <td>0</td>\n",
              "      <td>1</td>\n",
              "      <td>0</td>\n",
              "      <td>0</td>\n",
              "      <td>0</td>\n",
              "      <td>1</td>\n",
              "      <td>0</td>\n",
              "      <td>0</td>\n",
              "      <td>0</td>\n",
              "      <td>0</td>\n",
              "      <td>0</td>\n",
              "      <td>0</td>\n",
              "      <td>1</td>\n",
              "      <td>0</td>\n",
              "      <td>0</td>\n",
              "      <td>1</td>\n",
              "      <td>0</td>\n",
              "      <td>1</td>\n",
              "      <td>0</td>\n",
              "    </tr>\n",
              "    <tr>\n",
              "      <th>2</th>\n",
              "      <td>1.0</td>\n",
              "      <td>17.50</td>\n",
              "      <td>1</td>\n",
              "      <td>0.016760</td>\n",
              "      <td>141.6180</td>\n",
              "      <td>0</td>\n",
              "      <td>0</td>\n",
              "      <td>0</td>\n",
              "      <td>0</td>\n",
              "      <td>0</td>\n",
              "      <td>0</td>\n",
              "      <td>0</td>\n",
              "      <td>0</td>\n",
              "      <td>0</td>\n",
              "      <td>1</td>\n",
              "      <td>0</td>\n",
              "      <td>0</td>\n",
              "      <td>0</td>\n",
              "      <td>0</td>\n",
              "      <td>0</td>\n",
              "      <td>0</td>\n",
              "      <td>0</td>\n",
              "      <td>0</td>\n",
              "      <td>0</td>\n",
              "      <td>0</td>\n",
              "      <td>0</td>\n",
              "      <td>0</td>\n",
              "      <td>0</td>\n",
              "      <td>1</td>\n",
              "      <td>1</td>\n",
              "      <td>0</td>\n",
              "      <td>0</td>\n",
              "      <td>0</td>\n",
              "      <td>1</td>\n",
              "      <td>0</td>\n",
              "      <td>0</td>\n",
              "    </tr>\n",
              "    <tr>\n",
              "      <th>3</th>\n",
              "      <td>1.0</td>\n",
              "      <td>19.20</td>\n",
              "      <td>0</td>\n",
              "      <td>0.000000</td>\n",
              "      <td>182.0950</td>\n",
              "      <td>0</td>\n",
              "      <td>0</td>\n",
              "      <td>0</td>\n",
              "      <td>0</td>\n",
              "      <td>0</td>\n",
              "      <td>1</td>\n",
              "      <td>0</td>\n",
              "      <td>0</td>\n",
              "      <td>0</td>\n",
              "      <td>0</td>\n",
              "      <td>0</td>\n",
              "      <td>0</td>\n",
              "      <td>0</td>\n",
              "      <td>0</td>\n",
              "      <td>0</td>\n",
              "      <td>0</td>\n",
              "      <td>0</td>\n",
              "      <td>0</td>\n",
              "      <td>0</td>\n",
              "      <td>0</td>\n",
              "      <td>0</td>\n",
              "      <td>0</td>\n",
              "      <td>0</td>\n",
              "      <td>0</td>\n",
              "      <td>1</td>\n",
              "      <td>0</td>\n",
              "      <td>0</td>\n",
              "      <td>1</td>\n",
              "      <td>0</td>\n",
              "      <td>0</td>\n",
              "      <td>0</td>\n",
              "    </tr>\n",
              "    <tr>\n",
              "      <th>4</th>\n",
              "      <td>1.0</td>\n",
              "      <td>8.93</td>\n",
              "      <td>1</td>\n",
              "      <td>0.000000</td>\n",
              "      <td>53.8614</td>\n",
              "      <td>0</td>\n",
              "      <td>0</td>\n",
              "      <td>0</td>\n",
              "      <td>0</td>\n",
              "      <td>0</td>\n",
              "      <td>0</td>\n",
              "      <td>0</td>\n",
              "      <td>0</td>\n",
              "      <td>1</td>\n",
              "      <td>0</td>\n",
              "      <td>0</td>\n",
              "      <td>0</td>\n",
              "      <td>0</td>\n",
              "      <td>0</td>\n",
              "      <td>0</td>\n",
              "      <td>1</td>\n",
              "      <td>0</td>\n",
              "      <td>0</td>\n",
              "      <td>0</td>\n",
              "      <td>0</td>\n",
              "      <td>0</td>\n",
              "      <td>0</td>\n",
              "      <td>0</td>\n",
              "      <td>0</td>\n",
              "      <td>0</td>\n",
              "      <td>0</td>\n",
              "      <td>0</td>\n",
              "      <td>1</td>\n",
              "      <td>1</td>\n",
              "      <td>0</td>\n",
              "      <td>0</td>\n",
              "    </tr>\n",
              "  </tbody>\n",
              "</table>\n",
              "</div>"
            ],
            "text/plain": [
              "   const  ...  Outlet_Type_Supermarket Type3\n",
              "0    1.0  ...                              0\n",
              "1    1.0  ...                              0\n",
              "2    1.0  ...                              0\n",
              "3    1.0  ...                              0\n",
              "4    1.0  ...                              0\n",
              "\n",
              "[5 rows x 36 columns]"
            ]
          },
          "metadata": {},
          "execution_count": 54
        }
      ]
    },
    {
      "cell_type": "markdown",
      "metadata": {
        "id": "rWHqWEcmRmeD"
      },
      "source": [
        "# Linear Model"
      ]
    },
    {
      "cell_type": "code",
      "metadata": {
        "id": "uWiaXLN8zh0t",
        "colab": {
          "base_uri": "https://localhost:8080/"
        },
        "outputId": "c3087c0e-4ca0-44d8-f77d-723a8e071e1f"
      },
      "source": [
        "model = sm.OLS(y, X)\n",
        "results = model.fit()\n",
        "print(results.summary())"
      ],
      "execution_count": 55,
      "outputs": [
        {
          "output_type": "stream",
          "name": "stdout",
          "text": [
            "                            OLS Regression Results                            \n",
            "==============================================================================\n",
            "Dep. Variable:      Item_Outlet_Sales   R-squared:                       0.564\n",
            "Model:                            OLS   Adj. R-squared:                  0.562\n",
            "Method:                 Least Squares   F-statistic:                     392.0\n",
            "Date:                Mon, 11 Oct 2021   Prob (F-statistic):               0.00\n",
            "Time:                        02:59:55   Log-Likelihood:                -71988.\n",
            "No. Observations:                8523   AIC:                         1.440e+05\n",
            "Df Residuals:                    8494   BIC:                         1.442e+05\n",
            "Df Model:                          28                                         \n",
            "Covariance Type:            nonrobust                                         \n",
            "===================================================================================================\n",
            "                                      coef    std err          t      P>|t|      [0.025      0.975]\n",
            "---------------------------------------------------------------------------------------------------\n",
            "const                            -624.8122     38.642    -16.169      0.000    -700.561    -549.064\n",
            "Item_Weight                        -0.5076      2.915     -0.174      0.862      -6.221       5.206\n",
            "Item_Fat_Content                  -40.6338     28.229     -1.439      0.150     -95.970      14.703\n",
            "Item_Visibility                  -304.4402    248.715     -1.224      0.221    -791.983     183.102\n",
            "Item_MRP                           15.5652      0.198     78.739      0.000      15.178      15.953\n",
            "Item_Type_Breads                    5.1382     84.044      0.061      0.951    -159.608     169.885\n",
            "Item_Type_Breakfast                 7.5359    116.602      0.065      0.948    -221.033     236.105\n",
            "Item_Type_Canned                   25.5284     62.766      0.407      0.684     -97.508     148.565\n",
            "Item_Type_Dairy                   -40.7147     62.226     -0.654      0.513    -162.693      81.264\n",
            "Item_Type_Frozen Foods            -28.0245     58.866     -0.476      0.634    -143.415      87.366\n",
            "Item_Type_Fruits and Vegetables    29.8086     54.957      0.542      0.588     -77.920     137.538\n",
            "Item_Type_Hard Drinks              -0.3178     90.185     -0.004      0.997    -177.102     176.467\n",
            "Item_Type_Health and Hygiene      -10.6230     68.010     -0.156      0.876    -143.938     122.693\n",
            "Item_Type_Household               -39.2674     59.920     -0.655      0.512    -156.725      78.190\n",
            "Item_Type_Meat                     -0.4540     70.647     -0.006      0.995    -138.939     138.031\n",
            "Item_Type_Others                  -21.5785     98.616     -0.219      0.827    -214.889     171.732\n",
            "Item_Type_Seafood                 184.8704    148.004      1.249      0.212    -105.253     474.994\n",
            "Item_Type_Snack Foods             -11.4059     55.247     -0.206      0.836    -119.704      96.892\n",
            "Item_Type_Soft Drinks             -27.7527     70.168     -0.396      0.692    -165.299     109.794\n",
            "Item_Type_Starchy Foods            21.4338    103.035      0.208      0.835    -180.540     223.407\n",
            "Outlet_Identifier_OUT013          356.8260     24.092     14.811      0.000     309.599     404.053\n",
            "Outlet_Identifier_OUT017          141.2783     29.684      4.759      0.000      83.091     199.466\n",
            "Outlet_Identifier_OUT018          814.2647     30.719     26.507      0.000     754.048     874.481\n",
            "Outlet_Identifier_OUT019         -691.6047     37.209    -18.587      0.000    -764.543    -618.666\n",
            "Outlet_Identifier_OUT027         1677.6496     30.726     54.601      0.000    1617.420    1737.880\n",
            "Outlet_Identifier_OUT035           93.2477     27.300      3.416      0.001      39.733     146.763\n",
            "Outlet_Identifier_OUT045          -32.8832     29.661     -1.109      0.268     -91.026      25.260\n",
            "Outlet_Identifier_OUT046          151.3659     28.914      5.235      0.000      94.687     208.045\n",
            "Outlet_Identifier_OUT049          335.6802     26.467     12.683      0.000     283.798     387.562\n",
            "Outlet_Size_Medium               -534.6471     27.122    -19.713      0.000    -587.813    -481.481\n",
            "Outlet_Size_Small                -446.9910     23.245    -19.230      0.000    -492.556    -401.426\n",
            "Outlet_Location_Type_Tier 2       201.6428     17.249     11.690      0.000     167.831     235.454\n",
            "Outlet_Location_Type_Tier 3      -621.8964     30.968    -20.082      0.000    -682.600    -561.192\n",
            "Outlet_Type_Supermarket Type1    1045.5149     25.627     40.797      0.000     995.280    1095.750\n",
            "Outlet_Type_Supermarket Type2     814.2647     30.719     26.507      0.000     754.048     874.481\n",
            "Outlet_Type_Supermarket Type3    1677.6496     30.726     54.601      0.000    1617.420    1737.880\n",
            "==============================================================================\n",
            "Omnibus:                      965.882   Durbin-Watson:                   2.004\n",
            "Prob(Omnibus):                  0.000   Jarque-Bera (JB):             2312.779\n",
            "Skew:                           0.669   Prob(JB):                         0.00\n",
            "Kurtosis:                       5.173   Cond. No.                     6.88e+16\n",
            "==============================================================================\n",
            "\n",
            "Warnings:\n",
            "[1] Standard Errors assume that the covariance matrix of the errors is correctly specified.\n",
            "[2] The smallest eigenvalue is 4.3e-26. This might indicate that there are\n",
            "strong multicollinearity problems or that the design matrix is singular.\n"
          ]
        }
      ]
    },
    {
      "cell_type": "code",
      "metadata": {
        "id": "Tz5XcHhiqcqs"
      },
      "source": [
        "\n",
        "X_train, X_test, y_train, y_test = train_test_split(X, y, random_state = 42)"
      ],
      "execution_count": 56,
      "outputs": []
    },
    {
      "cell_type": "code",
      "metadata": {
        "id": "T-WoFjXbUvyG"
      },
      "source": [
        "from sklearn.preprocessing import StandardScaler \n",
        "scaler = StandardScaler()\n",
        "X_train_scaled = scaler.fit_transform(X_train)\n",
        "X_test_scaled = scaler.transform(X_test)"
      ],
      "execution_count": 57,
      "outputs": []
    },
    {
      "cell_type": "code",
      "metadata": {
        "id": "fbCrbzbgsrZl",
        "colab": {
          "base_uri": "https://localhost:8080/"
        },
        "outputId": "af2f7df9-e0f4-48c0-abf1-fe2f6936f046"
      },
      "source": [
        "# Instantiate and fit the model.\n",
        "reg_model= LinearRegression()\n",
        "reg_model.fit(X_train, y_train)"
      ],
      "execution_count": 58,
      "outputs": [
        {
          "output_type": "execute_result",
          "data": {
            "text/plain": [
              "LinearRegression(copy_X=True, fit_intercept=True, n_jobs=None, normalize=False)"
            ]
          },
          "metadata": {},
          "execution_count": 58
        }
      ]
    },
    {
      "cell_type": "code",
      "metadata": {
        "id": "N1vlBDUOzZ2a",
        "colab": {
          "base_uri": "https://localhost:8080/"
        },
        "outputId": "b295c5d7-4d95-4ff8-9932-5fbda40c9523"
      },
      "source": [
        "# Our model RMSE is high so it failing to account for important features\n",
        "print('Training RMSE:', np.sqrt(mean_squared_error(y_train, reg_model.predict(X_train))))\n",
        "print('Testing RMSE:', np.sqrt(mean_squared_error(y_test, reg_model.predict(X_test))))"
      ],
      "execution_count": 59,
      "outputs": [
        {
          "output_type": "stream",
          "name": "stdout",
          "text": [
            "Training RMSE: 1139.1040937388918\n",
            "Testing RMSE: 1092.8630817241494\n"
          ]
        }
      ]
    },
    {
      "cell_type": "code",
      "metadata": {
        "id": "UdQdwoJdzZ5B",
        "colab": {
          "base_uri": "https://localhost:8080/"
        },
        "outputId": "2bb0de49-c58b-4403-a6ec-d5abef2f36d6"
      },
      "source": [
        "# Our features explain 55 percent of the variance for Item_Outlet_Sales\n",
        "train_score = reg_model.score(X_train, y_train)\n",
        "print(train_score)"
      ],
      "execution_count": 60,
      "outputs": [
        {
          "output_type": "stream",
          "name": "stdout",
          "text": [
            "0.5615551419174628\n"
          ]
        }
      ]
    },
    {
      "cell_type": "code",
      "metadata": {
        "id": "r8G92NmTzZ7M",
        "colab": {
          "base_uri": "https://localhost:8080/"
        },
        "outputId": "50c669b2-1613-4c1f-8a84-7f83a647d2f3"
      },
      "source": [
        "test_score = reg_model.score(X_test, y_test)\n",
        "print(test_score)"
      ],
      "execution_count": 61,
      "outputs": [
        {
          "output_type": "stream",
          "name": "stdout",
          "text": [
            "0.5671041872384912\n"
          ]
        }
      ]
    },
    {
      "cell_type": "markdown",
      "metadata": {
        "id": "SF98BKdISKiz"
      },
      "source": [
        "# Decision Tree Model"
      ]
    },
    {
      "cell_type": "code",
      "metadata": {
        "id": "4fUu6_U5WCyA"
      },
      "source": [
        "from sklearn.tree import DecisionTreeRegressor"
      ],
      "execution_count": 66,
      "outputs": []
    },
    {
      "cell_type": "code",
      "metadata": {
        "id": "IFDcjXMEWJv4"
      },
      "source": [
        "y = df.Item_Outlet_Sales\n",
        "X = df.drop(columns=['Item_Outlet_Sales','Outlet_Establishment_Year'])"
      ],
      "execution_count": 67,
      "outputs": []
    },
    {
      "cell_type": "code",
      "metadata": {
        "colab": {
          "base_uri": "https://localhost:8080/",
          "height": 244
        },
        "id": "ek3-JE_jH6qo",
        "outputId": "6a0abd1a-5ca6-46ab-e32c-c809d2c2ee46"
      },
      "source": [
        "X.head()"
      ],
      "execution_count": 68,
      "outputs": [
        {
          "output_type": "execute_result",
          "data": {
            "text/html": [
              "<div>\n",
              "<style scoped>\n",
              "    .dataframe tbody tr th:only-of-type {\n",
              "        vertical-align: middle;\n",
              "    }\n",
              "\n",
              "    .dataframe tbody tr th {\n",
              "        vertical-align: top;\n",
              "    }\n",
              "\n",
              "    .dataframe thead th {\n",
              "        text-align: right;\n",
              "    }\n",
              "</style>\n",
              "<table border=\"1\" class=\"dataframe\">\n",
              "  <thead>\n",
              "    <tr style=\"text-align: right;\">\n",
              "      <th></th>\n",
              "      <th>Item_Weight</th>\n",
              "      <th>Item_Fat_Content</th>\n",
              "      <th>Item_Visibility</th>\n",
              "      <th>Item_MRP</th>\n",
              "      <th>Item_Type_Breads</th>\n",
              "      <th>Item_Type_Breakfast</th>\n",
              "      <th>Item_Type_Canned</th>\n",
              "      <th>Item_Type_Dairy</th>\n",
              "      <th>Item_Type_Frozen Foods</th>\n",
              "      <th>Item_Type_Fruits and Vegetables</th>\n",
              "      <th>Item_Type_Hard Drinks</th>\n",
              "      <th>Item_Type_Health and Hygiene</th>\n",
              "      <th>Item_Type_Household</th>\n",
              "      <th>Item_Type_Meat</th>\n",
              "      <th>Item_Type_Others</th>\n",
              "      <th>Item_Type_Seafood</th>\n",
              "      <th>Item_Type_Snack Foods</th>\n",
              "      <th>Item_Type_Soft Drinks</th>\n",
              "      <th>Item_Type_Starchy Foods</th>\n",
              "      <th>Outlet_Identifier_OUT013</th>\n",
              "      <th>Outlet_Identifier_OUT017</th>\n",
              "      <th>Outlet_Identifier_OUT018</th>\n",
              "      <th>Outlet_Identifier_OUT019</th>\n",
              "      <th>Outlet_Identifier_OUT027</th>\n",
              "      <th>Outlet_Identifier_OUT035</th>\n",
              "      <th>Outlet_Identifier_OUT045</th>\n",
              "      <th>Outlet_Identifier_OUT046</th>\n",
              "      <th>Outlet_Identifier_OUT049</th>\n",
              "      <th>Outlet_Size_Medium</th>\n",
              "      <th>Outlet_Size_Small</th>\n",
              "      <th>Outlet_Location_Type_Tier 2</th>\n",
              "      <th>Outlet_Location_Type_Tier 3</th>\n",
              "      <th>Outlet_Type_Supermarket Type1</th>\n",
              "      <th>Outlet_Type_Supermarket Type2</th>\n",
              "      <th>Outlet_Type_Supermarket Type3</th>\n",
              "    </tr>\n",
              "  </thead>\n",
              "  <tbody>\n",
              "    <tr>\n",
              "      <th>0</th>\n",
              "      <td>9.30</td>\n",
              "      <td>1</td>\n",
              "      <td>0.016047</td>\n",
              "      <td>249.8092</td>\n",
              "      <td>0</td>\n",
              "      <td>0</td>\n",
              "      <td>0</td>\n",
              "      <td>1</td>\n",
              "      <td>0</td>\n",
              "      <td>0</td>\n",
              "      <td>0</td>\n",
              "      <td>0</td>\n",
              "      <td>0</td>\n",
              "      <td>0</td>\n",
              "      <td>0</td>\n",
              "      <td>0</td>\n",
              "      <td>0</td>\n",
              "      <td>0</td>\n",
              "      <td>0</td>\n",
              "      <td>0</td>\n",
              "      <td>0</td>\n",
              "      <td>0</td>\n",
              "      <td>0</td>\n",
              "      <td>0</td>\n",
              "      <td>0</td>\n",
              "      <td>0</td>\n",
              "      <td>0</td>\n",
              "      <td>1</td>\n",
              "      <td>1</td>\n",
              "      <td>0</td>\n",
              "      <td>0</td>\n",
              "      <td>0</td>\n",
              "      <td>1</td>\n",
              "      <td>0</td>\n",
              "      <td>0</td>\n",
              "    </tr>\n",
              "    <tr>\n",
              "      <th>1</th>\n",
              "      <td>5.92</td>\n",
              "      <td>0</td>\n",
              "      <td>0.019278</td>\n",
              "      <td>48.2692</td>\n",
              "      <td>0</td>\n",
              "      <td>0</td>\n",
              "      <td>0</td>\n",
              "      <td>0</td>\n",
              "      <td>0</td>\n",
              "      <td>0</td>\n",
              "      <td>0</td>\n",
              "      <td>0</td>\n",
              "      <td>0</td>\n",
              "      <td>0</td>\n",
              "      <td>0</td>\n",
              "      <td>0</td>\n",
              "      <td>0</td>\n",
              "      <td>1</td>\n",
              "      <td>0</td>\n",
              "      <td>0</td>\n",
              "      <td>0</td>\n",
              "      <td>1</td>\n",
              "      <td>0</td>\n",
              "      <td>0</td>\n",
              "      <td>0</td>\n",
              "      <td>0</td>\n",
              "      <td>0</td>\n",
              "      <td>0</td>\n",
              "      <td>1</td>\n",
              "      <td>0</td>\n",
              "      <td>0</td>\n",
              "      <td>1</td>\n",
              "      <td>0</td>\n",
              "      <td>1</td>\n",
              "      <td>0</td>\n",
              "    </tr>\n",
              "    <tr>\n",
              "      <th>2</th>\n",
              "      <td>17.50</td>\n",
              "      <td>1</td>\n",
              "      <td>0.016760</td>\n",
              "      <td>141.6180</td>\n",
              "      <td>0</td>\n",
              "      <td>0</td>\n",
              "      <td>0</td>\n",
              "      <td>0</td>\n",
              "      <td>0</td>\n",
              "      <td>0</td>\n",
              "      <td>0</td>\n",
              "      <td>0</td>\n",
              "      <td>0</td>\n",
              "      <td>1</td>\n",
              "      <td>0</td>\n",
              "      <td>0</td>\n",
              "      <td>0</td>\n",
              "      <td>0</td>\n",
              "      <td>0</td>\n",
              "      <td>0</td>\n",
              "      <td>0</td>\n",
              "      <td>0</td>\n",
              "      <td>0</td>\n",
              "      <td>0</td>\n",
              "      <td>0</td>\n",
              "      <td>0</td>\n",
              "      <td>0</td>\n",
              "      <td>1</td>\n",
              "      <td>1</td>\n",
              "      <td>0</td>\n",
              "      <td>0</td>\n",
              "      <td>0</td>\n",
              "      <td>1</td>\n",
              "      <td>0</td>\n",
              "      <td>0</td>\n",
              "    </tr>\n",
              "    <tr>\n",
              "      <th>3</th>\n",
              "      <td>19.20</td>\n",
              "      <td>0</td>\n",
              "      <td>0.000000</td>\n",
              "      <td>182.0950</td>\n",
              "      <td>0</td>\n",
              "      <td>0</td>\n",
              "      <td>0</td>\n",
              "      <td>0</td>\n",
              "      <td>0</td>\n",
              "      <td>1</td>\n",
              "      <td>0</td>\n",
              "      <td>0</td>\n",
              "      <td>0</td>\n",
              "      <td>0</td>\n",
              "      <td>0</td>\n",
              "      <td>0</td>\n",
              "      <td>0</td>\n",
              "      <td>0</td>\n",
              "      <td>0</td>\n",
              "      <td>0</td>\n",
              "      <td>0</td>\n",
              "      <td>0</td>\n",
              "      <td>0</td>\n",
              "      <td>0</td>\n",
              "      <td>0</td>\n",
              "      <td>0</td>\n",
              "      <td>0</td>\n",
              "      <td>0</td>\n",
              "      <td>1</td>\n",
              "      <td>0</td>\n",
              "      <td>0</td>\n",
              "      <td>1</td>\n",
              "      <td>0</td>\n",
              "      <td>0</td>\n",
              "      <td>0</td>\n",
              "    </tr>\n",
              "    <tr>\n",
              "      <th>4</th>\n",
              "      <td>8.93</td>\n",
              "      <td>1</td>\n",
              "      <td>0.000000</td>\n",
              "      <td>53.8614</td>\n",
              "      <td>0</td>\n",
              "      <td>0</td>\n",
              "      <td>0</td>\n",
              "      <td>0</td>\n",
              "      <td>0</td>\n",
              "      <td>0</td>\n",
              "      <td>0</td>\n",
              "      <td>0</td>\n",
              "      <td>1</td>\n",
              "      <td>0</td>\n",
              "      <td>0</td>\n",
              "      <td>0</td>\n",
              "      <td>0</td>\n",
              "      <td>0</td>\n",
              "      <td>0</td>\n",
              "      <td>1</td>\n",
              "      <td>0</td>\n",
              "      <td>0</td>\n",
              "      <td>0</td>\n",
              "      <td>0</td>\n",
              "      <td>0</td>\n",
              "      <td>0</td>\n",
              "      <td>0</td>\n",
              "      <td>0</td>\n",
              "      <td>0</td>\n",
              "      <td>0</td>\n",
              "      <td>0</td>\n",
              "      <td>1</td>\n",
              "      <td>1</td>\n",
              "      <td>0</td>\n",
              "      <td>0</td>\n",
              "    </tr>\n",
              "  </tbody>\n",
              "</table>\n",
              "</div>"
            ],
            "text/plain": [
              "   Item_Weight  ...  Outlet_Type_Supermarket Type3\n",
              "0         9.30  ...                              0\n",
              "1         5.92  ...                              0\n",
              "2        17.50  ...                              0\n",
              "3        19.20  ...                              0\n",
              "4         8.93  ...                              0\n",
              "\n",
              "[5 rows x 35 columns]"
            ]
          },
          "metadata": {},
          "execution_count": 68
        }
      ]
    },
    {
      "cell_type": "code",
      "metadata": {
        "id": "UUSw4GehWCs8"
      },
      "source": [
        "X_train, X_test, y_train, y_test = train_test_split(X, y, random_state=42)"
      ],
      "execution_count": 69,
      "outputs": []
    },
    {
      "cell_type": "code",
      "metadata": {
        "id": "tZJI-RHZWCvZ"
      },
      "source": [
        "dec_tree = DecisionTreeRegressor(random_state = 42)"
      ],
      "execution_count": 70,
      "outputs": []
    },
    {
      "cell_type": "code",
      "metadata": {
        "colab": {
          "base_uri": "https://localhost:8080/"
        },
        "id": "N_zQj7qxRwtR",
        "outputId": "52734c52-2443-44c0-8373-7a4bcb3503c7"
      },
      "source": [
        "# fit model\n",
        "\n",
        "dec_tree.fit(X_train, y_train)"
      ],
      "execution_count": 72,
      "outputs": [
        {
          "output_type": "execute_result",
          "data": {
            "text/plain": [
              "DecisionTreeRegressor(ccp_alpha=0.0, criterion='mse', max_depth=None,\n",
              "                      max_features=None, max_leaf_nodes=None,\n",
              "                      min_impurity_decrease=0.0, min_impurity_split=None,\n",
              "                      min_samples_leaf=1, min_samples_split=2,\n",
              "                      min_weight_fraction_leaf=0.0, presort='deprecated',\n",
              "                      random_state=42, splitter='best')"
            ]
          },
          "metadata": {},
          "execution_count": 72
        }
      ]
    },
    {
      "cell_type": "code",
      "metadata": {
        "id": "d7883vr2RwwK"
      },
      "source": [
        "# default tree.\n",
        "\n",
        "train_preds = dec_tree.predict(X_train)\n",
        "test_preds = dec_tree.predict(X_test)"
      ],
      "execution_count": 73,
      "outputs": []
    },
    {
      "cell_type": "code",
      "metadata": {
        "colab": {
          "base_uri": "https://localhost:8080/"
        },
        "id": "OUHZxSWARwyU",
        "outputId": "980e2aa9-c264-4648-b5c8-0f6ecd051e89"
      },
      "source": [
        "# we can see that it is overfitting\n",
        "\n",
        "train_score = dec_tree.score(X_train,y_train)\n",
        "test_score = dec_tree.score(X_test, y_test)\n",
        "print(train_score)\n",
        "print(test_score)"
      ],
      "execution_count": 74,
      "outputs": [
        {
          "output_type": "stream",
          "name": "stdout",
          "text": [
            "1.0\n",
            "0.2051006802200408\n"
          ]
        }
      ]
    },
    {
      "cell_type": "code",
      "metadata": {
        "colab": {
          "base_uri": "https://localhost:8080/"
        },
        "id": "pc0C4TeyRw1B",
        "outputId": "6b6c870c-1ad3-4b6f-8498-cda32e738748"
      },
      "source": [
        "# 2) Determine the depth of the default tree.\n",
        "# it is 36\n",
        "dec_tree.get_depth()"
      ],
      "execution_count": 75,
      "outputs": [
        {
          "output_type": "execute_result",
          "data": {
            "text/plain": [
              "38"
            ]
          },
          "metadata": {},
          "execution_count": 75
        }
      ]
    },
    {
      "cell_type": "code",
      "metadata": {
        "colab": {
          "base_uri": "https://localhost:8080/"
        },
        "id": "cOZxE2PvRw30",
        "outputId": "ff1d0935-1355-4235-80c6-ee547f6f6003"
      },
      "source": [
        "# 3) Optimize the max_depth based on the R2 score.\n",
        "\n",
        "# List of values to try for max_depth:\n",
        "max_depth_range = list(range(2, 36)) # will try every value between 2 and 36\n",
        "# List to store the score for each value of max_depth:\n",
        "r2 = []\n",
        "for depth in max_depth_range:\n",
        "    dec_tree = DecisionTreeRegressor(max_depth = depth, \n",
        "                             random_state = 42)\n",
        "    dec_tree.fit(X_train, y_train)\n",
        "    score = dec_tree.score(X_test, y_test)\n",
        "    r2.append(score)\n",
        "\n",
        "print(r2)"
      ],
      "execution_count": 77,
      "outputs": [
        {
          "output_type": "stream",
          "name": "stdout",
          "text": [
            "[0.3465043845499205, 0.470942119899096, 0.574596803745578, 0.5856983281382546, 0.5790563600387593, 0.5668013591349559, 0.5556484080952053, 0.5243215306033036, 0.5137495144725761, 0.488887229266858, 0.4371656746378553, 0.41800633683027544, 0.39432628372396544, 0.3576904119416785, 0.3260896223903149, 0.284884303153217, 0.27067567632012246, 0.2713085174892007, 0.21743354578713103, 0.21564375091417076, 0.2155978730429159, 0.18845491554350058, 0.20252572577642103, 0.19376191588225544, 0.17653097491990943, 0.17732577716922648, 0.17248352934162425, 0.16455828363151903, 0.18719388371732815, 0.17265242597018904, 0.1727423278457596, 0.1734520341932897, 0.1714500777407476, 0.15708349091346874]\n"
          ]
        }
      ]
    },
    {
      "cell_type": "code",
      "metadata": {
        "colab": {
          "base_uri": "https://localhost:8080/",
          "height": 281
        },
        "id": "WE0inuDQRw-m",
        "outputId": "6cecba19-c7ee-412c-9f86-6219cb6336eb"
      },
      "source": [
        "# Visualize which max_depth leads to the highest r2 score\n",
        "import matplotlib.pyplot as plt\n",
        "plt.plot(max_depth_range, r2)\n",
        "plt.xlabel('max_depth')\n",
        "plt.ylabel('R2');\n"
      ],
      "execution_count": 78,
      "outputs": [
        {
          "output_type": "display_data",
          "data": {
            "image/png": "[encoded data removed]",
            "text/plain": [
              "<Figure size 432x288 with 1 Axes>"
            ]
          },
          "metadata": {
            "needs_background": "light"
          }
        }
      ]
    },
    {
      "cell_type": "code",
      "metadata": {
        "colab": {
          "base_uri": "https://localhost:8080/"
        },
        "id": "quOKUksJRxBG",
        "outputId": "b11d9e0c-d1b4-4610-e559-bad7afd9c209"
      },
      "source": [
        "# What is the r2 of your final model on the training set and on the test set?\n",
        "\n",
        "# Let's run the model with our optimized value for max_depth, which is 7\n",
        "dec_tree_9 = DecisionTreeRegressor(max_depth = 5, random_state = 42)\n",
        "dec_tree_9.fit(X_train, y_train)\n",
        "train_9_score = dec_tree_9.score(X_train, y_train)\n",
        "test_9_score = dec_tree_9.score(X_test, y_test)\n",
        "print(train_9_score)\n",
        "print(test_9_score)"
      ],
      "execution_count": 80,
      "outputs": [
        {
          "output_type": "stream",
          "name": "stdout",
          "text": [
            "0.612057803720431\n",
            "0.5856983281382546\n"
          ]
        }
      ]
    },
    {
      "cell_type": "code",
      "metadata": {
        "colab": {
          "base_uri": "https://localhost:8080/"
        },
        "id": "ASvuYNXkZkZ4",
        "outputId": "05a1e170-ba1e-4862-8c77-c9af46ca1af5"
      },
      "source": [
        "print('Training RMSE:', np.sqrt(mean_squared_error(y_train, dec_tree.predict(X_train))))\n",
        "print('Testing RMSE:', np.sqrt(mean_squared_error(y_test, dec_tree.predict(X_test))))"
      ],
      "execution_count": 94,
      "outputs": [
        {
          "output_type": "stream",
          "name": "stdout",
          "text": [
            "Training RMSE: 757.6078724703484\n",
            "Testing RMSE: 777.1870006803273\n"
          ]
        }
      ]
    },
    {
      "cell_type": "markdown",
      "metadata": {
        "id": "vcSCx-pSSTW9"
      },
      "source": [
        "# Bagged Tree Model"
      ]
    },
    {
      "cell_type": "code",
      "metadata": {
        "id": "6MAtasfnRxDs"
      },
      "source": [
        "from sklearn.ensemble import BaggingRegressor, RandomForestRegressor\n",
        "# Train test split\n",
        "X_train, X_test, y_train, y_test = train_test_split(X, y, random_state=3)"
      ],
      "execution_count": 84,
      "outputs": []
    },
    {
      "cell_type": "code",
      "metadata": {
        "colab": {
          "base_uri": "https://localhost:8080/"
        },
        "id": "SjLYzUhKSW5z",
        "outputId": "b5280bc2-0edd-4ef5-a0a0-a1c4927716dd"
      },
      "source": [
        "# Bagged trees regressor\n",
        "bt = BaggingRegressor()\n",
        "bt.fit(X_train, y_train)"
      ],
      "execution_count": 85,
      "outputs": [
        {
          "output_type": "execute_result",
          "data": {
            "text/plain": [
              "BaggingRegressor(base_estimator=None, bootstrap=True, bootstrap_features=False,\n",
              "                 max_features=1.0, max_samples=1.0, n_estimators=10,\n",
              "                 n_jobs=None, oob_score=False, random_state=None, verbose=0,\n",
              "                 warm_start=False)"
            ]
          },
          "metadata": {},
          "execution_count": 85
        }
      ]
    },
    {
      "cell_type": "code",
      "metadata": {
        "colab": {
          "base_uri": "https://localhost:8080/"
        },
        "id": "nkHNHf9kSW8Q",
        "outputId": "dbec9665-fc5d-47ed-a9e3-fc194cccf2df"
      },
      "source": [
        "# training R2\n",
        "bt.score(X_train, y_train)"
      ],
      "execution_count": 86,
      "outputs": [
        {
          "output_type": "execute_result",
          "data": {
            "text/plain": [
              "0.916393553958389"
            ]
          },
          "metadata": {},
          "execution_count": 86
        }
      ]
    },
    {
      "cell_type": "code",
      "metadata": {
        "colab": {
          "base_uri": "https://localhost:8080/"
        },
        "id": "v8H9J5e5SW-7",
        "outputId": "f534c361-4b4d-476b-a3bf-63747237cd76"
      },
      "source": [
        "# testing R2\n",
        "bt.score(X_test, y_test)"
      ],
      "execution_count": 87,
      "outputs": [
        {
          "output_type": "execute_result",
          "data": {
            "text/plain": [
              "0.5241895943797774"
            ]
          },
          "metadata": {},
          "execution_count": 87
        }
      ]
    },
    {
      "cell_type": "code",
      "metadata": {
        "colab": {
          "base_uri": "https://localhost:8080/"
        },
        "id": "1rykcEBFZ1Uu",
        "outputId": "ca426b57-614a-451c-8ae6-2b263b182c46"
      },
      "source": [
        "print('Training RMSE:', np.sqrt(mean_squared_error(y_train, bt.predict(X_train))))\n",
        "print('Testing RMSE:', np.sqrt(mean_squared_error(y_test, bt.predict(X_test))))"
      ],
      "execution_count": 95,
      "outputs": [
        {
          "output_type": "stream",
          "name": "stdout",
          "text": [
            "Training RMSE: 493.74900897772204\n",
            "Testing RMSE: 1174.5548333619852\n"
          ]
        }
      ]
    },
    {
      "cell_type": "markdown",
      "metadata": {
        "id": "pKdAUABtSXfL"
      },
      "source": [
        " # Random Forest Model\n",
        "   "
      ]
    },
    {
      "cell_type": "code",
      "metadata": {
        "colab": {
          "base_uri": "https://localhost:8080/"
        },
        "id": "MkIwqRKOSdWn",
        "outputId": "973d9b44-3039-494a-e575-c26512cd8f16"
      },
      "source": [
        "# Random Forest regressor\n",
        "rf = RandomForestRegressor()\n",
        "rf.fit(X_train, y_train)"
      ],
      "execution_count": 88,
      "outputs": [
        {
          "output_type": "execute_result",
          "data": {
            "text/plain": [
              "RandomForestRegressor(bootstrap=True, ccp_alpha=0.0, criterion='mse',\n",
              "                      max_depth=None, max_features='auto', max_leaf_nodes=None,\n",
              "                      max_samples=None, min_impurity_decrease=0.0,\n",
              "                      min_impurity_split=None, min_samples_leaf=1,\n",
              "                      min_samples_split=2, min_weight_fraction_leaf=0.0,\n",
              "                      n_estimators=100, n_jobs=None, oob_score=False,\n",
              "                      random_state=None, verbose=0, warm_start=False)"
            ]
          },
          "metadata": {},
          "execution_count": 88
        }
      ]
    },
    {
      "cell_type": "code",
      "metadata": {
        "colab": {
          "base_uri": "https://localhost:8080/"
        },
        "id": "UKfCmjC9SdZZ",
        "outputId": "710cc280-9602-4e74-f9b1-af3bc1bcc9fb"
      },
      "source": [
        "# training R2\n",
        "rf.score(X_train, y_train)"
      ],
      "execution_count": 90,
      "outputs": [
        {
          "output_type": "execute_result",
          "data": {
            "text/plain": [
              "0.9366328179755801"
            ]
          },
          "metadata": {},
          "execution_count": 90
        }
      ]
    },
    {
      "cell_type": "code",
      "metadata": {
        "colab": {
          "base_uri": "https://localhost:8080/"
        },
        "id": "x4LO23aQSdcd",
        "outputId": "48e93ffc-f45e-4bf9-b368-6e46060ffe02"
      },
      "source": [
        "# testing R2\n",
        "rf.score(X_test, y_test)"
      ],
      "execution_count": 91,
      "outputs": [
        {
          "output_type": "execute_result",
          "data": {
            "text/plain": [
              "0.5726995234823957"
            ]
          },
          "metadata": {},
          "execution_count": 91
        }
      ]
    },
    {
      "cell_type": "code",
      "metadata": {
        "colab": {
          "base_uri": "https://localhost:8080/"
        },
        "id": "4osdH0E7Z-us",
        "outputId": "d765129a-8704-405a-d542-b081999187a2"
      },
      "source": [
        "print('Training RMSE:', np.sqrt(mean_squared_error(y_train, rf.predict(X_train))))\n",
        "print('Testing RMSE:', np.sqrt(mean_squared_error(y_test, rf.predict(X_test))))"
      ],
      "execution_count": 96,
      "outputs": [
        {
          "output_type": "stream",
          "name": "stdout",
          "text": [
            "Training RMSE: 429.8516050155273\n",
            "Testing RMSE: 1113.0713829019826\n"
          ]
        }
      ]
    },
    {
      "cell_type": "code",
      "metadata": {
        "colab": {
          "base_uri": "https://localhost:8080/",
          "height": 320
        },
        "id": "s90QQb9_Sdu0",
        "outputId": "cac9ef00-6bd8-40e6-b502-24383146f519"
      },
      "source": [
        "# Get random forest feature importances & plot \n",
        "\n",
        "rf_features = pd.DataFrame({'feature': X_train.columns, 'feature_importance': rf.feature_importances_})\n",
        "rf_features.sort_values(by = 'feature_importance', inplace = True)\n",
        "\n",
        "plt.figure(figsize = (12, 5))\n",
        "plt.barh(rf_features['feature'], rf_features['feature_importance']);"
      ],
      "execution_count": 92,
      "outputs": [
        {
          "output_type": "display_data",
          "data": {
            "image/png": "[encoded data removed]",
            "text/plain": [
              "<Figure size 864x360 with 1 Axes>"
            ]
          },
          "metadata": {
            "needs_background": "light"
          }
        }
      ]
    },
    {
      "cell_type": "markdown",
      "metadata": {
        "id": "fZkN28l1XptV"
      },
      "source": [
        ""
      ]
    },
    {
      "cell_type": "markdown",
      "metadata": {
        "id": "YtGc84raSeok"
      },
      "source": [
        "# Comparing Model performance based on r^2.\n",
        "\n",
        "For LM: our score is 56.\n",
        "For Decision Tree: our score is 58.\n",
        "For Bagged Tree: our score is 52.\n",
        "For Random Forest: our score is 57."
      ]
    },
    {
      "cell_type": "markdown",
      "metadata": {
        "id": "o-l6RL8uSoUl"
      },
      "source": [
        "# Comparing Models Based on RMSE\n",
        "\n",
        "All of the models scored very high meaning that our models are not predicting well. \n"
      ]
    },
    {
      "cell_type": "markdown",
      "metadata": {
        "id": "QoHEaO0YSyKV"
      },
      "source": [
        "# Recommendtions\n",
        "\n",
        "I would recommend random forest did best out of all models.\n"
      ]
    }
  ]
}